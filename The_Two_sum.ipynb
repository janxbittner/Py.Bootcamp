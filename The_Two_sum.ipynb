{
 "cells": [
  {
   "cell_type": "code",
   "execution_count": 2,
   "metadata": {},
   "outputs": [],
   "source": [
    "L = [2,5,3,7,4] # Create list\n",
    "Target= 10      # Set target value"
   ]
  },
  {
   "cell_type": "code",
   "execution_count": 3,
   "metadata": {},
   "outputs": [
    {
     "name": "stdout",
     "output_type": "stream",
     "text": [
      "The sum of value: 3 on index 2 and value: 7 on index 3 is equal 10\n"
     ]
    }
   ],
   "source": [
    "'''\n",
    "The two sum problem\n",
    "'''\n",
    "\n",
    "\n",
    "\n",
    "\n",
    "\n",
    "def two_sum(L=[2,5,3,7,4],Target=10):   # function definition\n",
    "    '''\n",
    "    This function check if sum of two values of the gives result equal to target \n",
    "    '''\n",
    "    check_1 =-1\n",
    "    \n",
    "    for first_value in L:\n",
    "        for second_value in L:\n",
    "            if (first_value+second_value) == Target and (L.index(first_value) != L.index(second_value)) and ( check_1 != L.index(second_value)):\n",
    "                \n",
    "                print(f'The sum of value: {first_value} on index {L.index(first_value)}' \\\n",
    "                f' and value: {second_value} on index {L.index(second_value)} is equal {Target}' )\n",
    "                check_1 = L.index(first_value)\n",
    "\n",
    "two_sum()    "
   ]
  }
 ],
 "metadata": {
  "kernelspec": {
   "display_name": "Python 3",
   "language": "python",
   "name": "python3"
  },
  "language_info": {
   "codemirror_mode": {
    "name": "ipython",
    "version": 3
   },
   "file_extension": ".py",
   "mimetype": "text/x-python",
   "name": "python",
   "nbconvert_exporter": "python",
   "pygments_lexer": "ipython3",
   "version": "3.7.6"
  }
 },
 "nbformat": 4,
 "nbformat_minor": 4
}
