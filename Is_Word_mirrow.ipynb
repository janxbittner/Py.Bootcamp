{
 "cells": [
  {
   "cell_type": "markdown",
   "metadata": {},
   "source": [
    "The newest version!"
   ]
  },
  {
   "cell_type": "code",
   "execution_count": null,
   "metadata": {},
   "outputs": [],
   "source": [
    "def is_word_symetric():\n",
    "   \n",
    "   while True:\n",
    "       name = input(\"Enter word:\")\n",
    "       if name.isalpha() and len(name) > 0 :\n",
    "           break\n",
    "       else:\n",
    "           continue\n",
    "       \n",
    "   print(\"The word\",name.upper(),\"is symetric\") if name[::-1] == name[::] else print(\"The word\",name,\" Is not symetric\")"
   ]
  },
  {
   "cell_type": "markdown",
   "metadata": {},
   "source": [
    "The previous version."
   ]
  },
  {
   "cell_type": "code",
   "execution_count": 1,
   "metadata": {},
   "outputs": [
    {
     "name": "stdout",
     "output_type": "stream",
     "text": [
      "Enter word to check:`\n",
      "word ` has: 1 charts\n",
      "You not enter word\n",
      "Word is not symetric\n"
     ]
    }
   ],
   "source": [
    "def is_word_mirrow (word):\n",
    "        total=0\n",
    "        nb_of_charts = len(word)\n",
    "        print(\"word\",word, \"has:\",nb_of_charts,\"charts\")\n",
    "\n",
    "        if type(word) is str and len(word) > 1: \n",
    "            \n",
    "            for i in range(nb_of_charts):\n",
    "                if word[i] == word[nb_of_charts-(i+1)]:\n",
    "                    total +=1\n",
    "                    \n",
    "        elif word ==\"\":\n",
    "             print(\"You enter nothing\")\n",
    "        \n",
    "        else:\n",
    "            print(\"You not enter word\")\n",
    "            \n",
    "        if total == len(word) and len(word)>1:\n",
    "            print(\"Word is symetric\")\n",
    "        else:\n",
    "            print(\"Word is not symetric\")\n",
    "        \n",
    "word = input(\"Enter word to check:\")            \n",
    "is_word_mirrow(word)"
   ]
  }
 ],
 "metadata": {
  "kernelspec": {
   "display_name": "Python 3",
   "language": "python",
   "name": "python3"
  },
  "language_info": {
   "codemirror_mode": {
    "name": "ipython",
    "version": 3
   },
   "file_extension": ".py",
   "mimetype": "text/x-python",
   "name": "python",
   "nbconvert_exporter": "python",
   "pygments_lexer": "ipython3",
   "version": "3.7.6"
  }
 },
 "nbformat": 4,
 "nbformat_minor": 2
}
