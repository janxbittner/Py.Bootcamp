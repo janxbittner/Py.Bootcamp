{
 "cells": [
  {
   "cell_type": "code",
   "execution_count": 5,
   "metadata": {},
   "outputs": [
    {
     "name": "stdout",
     "output_type": "stream",
     "text": [
      "Enter card number(It must have an even number of digits): 348596021189467\n",
      "Card number: 348596021189467 is valid!\n"
     ]
    }
   ],
   "source": [
    "'''\n",
    "The formula verifies a number against its included check digit, which is usually appended to a partial account number to generate the full account number. This number must pass the following test:\n",
    "\n",
    "From the rightmost digit (excluding the check digit) and moving left, double the value of every second digit. The check digit is neither doubled nor included in this calculation; the first digit doubled is the digit located immediately left of the check digit. If the result of this doubling operation is greater than 9 (e.g., 8 × 2 = 16), then add the digits of the result (e.g., 16: 1 + 6 = 7, 18: 1 + 8 = 9) or, alternatively, the same final result can be found by subtracting 9 from that result (e.g., 16: 16 − 9 = 7, 18: 18 − 9 = 9).\n",
    "Take the sum of all the digits.\n",
    "If the total modulo 10 is equal to 0 (if the total ends in zero) then the number is valid according to the Luhn formula; otherwise it is not valid.\n",
    "'''\n",
    "card_numer = \"\"\n",
    "control_sum = 0\n",
    "# Below: checking if entered value is int and longer then 4 digit\n",
    "while not card_numer.isdigit() or len(card_numer) % 2 != 0 and len(card_numer) < 4:\n",
    "    card_numer = input(\"Enter card number(It must have an even number of digits): \")\n",
    "\n",
    "# Below: Luhn's algorythm    \n",
    "for item in range(len(card_numer)):\n",
    "\n",
    "    if item % 2 == 0 or item == len(card_numer)-1:\n",
    "        control_sum += int(card_numer[item])\n",
    "    elif item % 2 == 1 and item != len(card_numer)-1:\n",
    "        if (int(card_numer[item])*2) > 9:\n",
    "            control_sum += (int(card_numer[item])*2)-9\n",
    "        else:\n",
    "            control_sum += (int(card_numer[item])*2)\n",
    "\n",
    "\n",
    "if control_sum % 10 == 0:\n",
    "    print(f'Card number: {card_numer} is valid!')\n",
    "else:\n",
    "     print(f'Card number: {card_numer} is not valid!')\n",
    "\n",
    "\n"
   ]
  }
 ],
 "metadata": {
  "kernelspec": {
   "display_name": "Python 3",
   "language": "python",
   "name": "python3"
  },
  "language_info": {
   "codemirror_mode": {
    "name": "ipython",
    "version": 3
   },
   "file_extension": ".py",
   "mimetype": "text/x-python",
   "name": "python",
   "nbconvert_exporter": "python",
   "pygments_lexer": "ipython3",
   "version": "3.7.6"
  }
 },
 "nbformat": 4,
 "nbformat_minor": 4
}
