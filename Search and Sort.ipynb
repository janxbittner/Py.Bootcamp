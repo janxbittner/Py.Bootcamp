{
 "cells": [
  {
   "cell_type": "code",
   "execution_count": 17,
   "metadata": {
    "scrolled": true
   },
   "outputs": [
    {
     "name": "stdout",
     "output_type": "stream",
     "text": [
      "Random list (unsorted):\n",
      "[62, 23, 78, 82, 44, 25, 87, 1, 92, 62, 96, 19, 54, 72, 4, 28, 52, 82, 94, 81, 6, 74, 96, 26, 22, 7, 2, 55, 9, 67, 81, 1, 10, 48, 66, 4, 39, 51, 67, 88, 35, 37, 67, 77, 91, 40, 49, 92, 68, 5, 90, 75, 71, 50, 87, 43, 0, 67, 32, 55, 28, 93, 82, 57, 9, 72, 70, 75, 93, 45, 72, 93, 60, 73, 26, 23, 9, 76, 64, 15]\n"
     ]
    }
   ],
   "source": [
    "from random import randint as rint # importing random function\n",
    "\n",
    "'''\n",
    "Create random list of value\n",
    "'''\n",
    "\n",
    "L = []  # empty list\n",
    "n = rint(0,100) # values of element in the list\n",
    "\n",
    "for element in range(n):  # for each elememnt in range of n\n",
    "\n",
    "    L.append(rint(0,100)) # add random value to list\n",
    "    \n",
    "print(f'Random list (unsorted):\\n{L}') # print unsorted list\n",
    "    "
   ]
  },
  {
   "cell_type": "code",
   "execution_count": 21,
   "metadata": {
    "scrolled": true
   },
   "outputs": [
    {
     "name": "stdout",
     "output_type": "stream",
     "text": [
      "Enter integer value in range 0-100: 23\n",
      "Element of value: 23 exist in the list 2 numbers of times, under index numbers: [16, 17]\n"
     ]
    }
   ],
   "source": [
    "'''\n",
    "Linear search - > go through each element to find if element exist if yes return index\n",
    "'''\n",
    "sought_value = int(input(\"Enter integer value in range 0-100: \")) # Searching value\n",
    "exist_nb = 0\n",
    "index_list = []\n",
    "for index, value in enumerate(L):\n",
    "    if value == sought_value:\n",
    "        exist_nb = exist_nb + 1 \n",
    "        index_list.append(index)\n",
    "\n",
    "if exist_nb == 0:\n",
    "    print(f'Element of value: {sought_value} not exist in the list' )\n",
    "else:\n",
    "    print(f'Element of value: {sought_value} exist in the list {exist_nb} numbers of times, under index numbers: {index_list}' )\n"
   ]
  },
  {
   "cell_type": "code",
   "execution_count": 23,
   "metadata": {},
   "outputs": [
    {
     "name": "stdout",
     "output_type": "stream",
     "text": [
      "Enter integer value in range 0-100: 25\n",
      "Element of value: 25 exist in the list, under index numbers: 18\n"
     ]
    }
   ],
   "source": [
    "'''\n",
    "WORKS WHEN LIST IS SORTED\n",
    "\n",
    "Binary search - > go to middle element and check if it lower or higer then sought value. If it lower then we\n",
    "check again from first value to middle and so again and again to check if value exist.\n",
    "\n",
    "'''\n",
    "sought_value = int(input(\"Enter integer value in range 0-100: \"))\n",
    "count = len(L)\n",
    "\n",
    "L.sort() # Sorting list form the lowers value to higher # Searching value\n",
    "nb_of_elements = len(L)   # return the item numbers in list\n",
    "\n",
    "middle_point = int(len(L) / 2) # Middle point is center point of the list\n",
    "\n",
    "nb_of_elements = int(nb_of_elements/2)+1 # number of element is devided by 2 to take info how much items are in half list\n",
    "\n",
    "\n",
    "while L[middle_point] != sought_value and count != 0 : # do until list value is not the same as sought value or count is 0\n",
    "    \n",
    "    nb_of_elements = int(nb_of_elements/2) # number of element is devided by 2 to take info how much items are in half list\n",
    "    \n",
    "    if L[middle_point] < sought_value: # if value from list is lower then sought value\n",
    "        \n",
    "        middle_point += nb_of_elements # append middle point bt numbers of element\n",
    "        \n",
    "    else: # if value from list is higher then sought value\n",
    "        \n",
    "        middle_point -= nb_of_elements # subtrackt middle point bt numbers of element\n",
    "    \n",
    "    count -= 1   # subtrackt one from count value\n",
    "\n",
    "else:   # if list value is the same as sought value or count is 0\n",
    "    if count == 0:  # if count is zero that mean the value not exsist in list\n",
    "        print(f'Element of value: {sought_value} not exist in the list')\n",
    "    else: # else value exist in list\n",
    "        for index, value in enumerate(L): # for statment checks if the value repeats\n",
    "\n",
    "            if value == sought_value: # if value from list if equal to searching value do\n",
    "                print(f'Element of value: {sought_value} exist in the list, under index numbers: {index}')\n",
    "\n"
   ]
  },
  {
   "cell_type": "code",
   "execution_count": 26,
   "metadata": {},
   "outputs": [
    {
     "name": "stdout",
     "output_type": "stream",
     "text": [
      "List is sorted (from lower to higher value):\n",
      "[0, 1, 1, 2, 4, 4, 5, 6, 7, 9, 9, 9, 10, 15, 19, 22, 23, 23, 25, 26, 26, 28, 28, 32, 35, 37, 39, 40, 43, 44, 45, 48, 49, 50, 51, 52, 54, 55, 55, 57, 60, 62, 62, 64, 66, 67, 67, 67, 67, 68, 70, 71, 72, 72, 72, 73, 74, 75, 75, 76, 77, 78, 81, 81, 82, 82, 82, 87, 87, 88, 90, 91, 92, 92, 93, 93, 93, 94, 96, 96]\n"
     ]
    }
   ],
   "source": [
    "'''\n",
    "Isertion sort work is dedicated to not sorted list.\n",
    "Function check if n+1 value is lower than n if yes change it order\n",
    "'''\n",
    "\n",
    "for item in L:\n",
    "    for n in range(len(L)-1):\n",
    "        if L[n] > L[n+1]:\n",
    "            L[n],L[n+1] = L[n+1],L[n]\n",
    "        \n",
    "print(f'List is sorted (from lower to higher value):\\n{L}')"
   ]
  }
 ],
 "metadata": {
  "kernelspec": {
   "display_name": "Python 3",
   "language": "python",
   "name": "python3"
  },
  "language_info": {
   "codemirror_mode": {
    "name": "ipython",
    "version": 3
   },
   "file_extension": ".py",
   "mimetype": "text/x-python",
   "name": "python",
   "nbconvert_exporter": "python",
   "pygments_lexer": "ipython3",
   "version": "3.7.6"
  }
 },
 "nbformat": 4,
 "nbformat_minor": 4
}
